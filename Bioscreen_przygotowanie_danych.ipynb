{
 "cells": [
  {
   "cell_type": "markdown",
   "id": "heated-ethernet",
   "metadata": {},
   "source": [
    "# Growth rate analysis with Bioscreen or any multi-well plate\n",
    "\n",
    "This notebook contain workflow to prepare and analyze the results of microbial growth in Bioscreen plate or any multi-well plate.\n",
    "\n",
    "------\n",
    "\n",
    "Lidia Lipińska-Zubrycka, Institute of Genetics and Biotechnology"
   ]
  },
  {
   "cell_type": "code",
   "execution_count": 83,
   "id": "becoming-peace",
   "metadata": {},
   "outputs": [],
   "source": [
    "# Import libraries\n",
    "import numpy as np\n",
    "import matplotlib.pyplot as plt\n",
    "import pandas as pd\n",
    "import seaborn as sns\n",
    "import datetime as DT\n",
    "from datetime import timedelta\n",
    "import parsedatetime\n",
    "from pytimeparse import parse\n",
    "     "
   ]
  },
  {
   "cell_type": "code",
   "execution_count": null,
   "id": "cognitive-torture",
   "metadata": {},
   "outputs": [],
   "source": [
    "# Define the function to preprocess data\n",
    "\n",
    "def join_rawdata_and_metadata(rawdata_path, metadata_path, output_path = 'Bioscreen_output_table.csv'):\n",
    "    '''\n",
    "    Funkcja przekształca tabelę wyników Bioscreen - dodaje poprawne nazwy kolumn na podstawie \n",
    "    pliku csv z metadanymi oraz przekształca format kolumny 'Time'.\n",
    "    Input:\n",
    "        rawdata_path    str, sciezka do pliku z danymi\n",
    "        metadata_path   str, sciezka do pliku z metadanymi (nazwy prob na plytce Bioscreen)\n",
    "    Output:\n",
    "        output_path     str, sciezka do pliku po przekształceniu \n",
    "    \n",
    "    '''\n",
    "    \n",
    "\n",
    "    metadata = pd.read_csv(metadata_path, sep = ';')\n",
    "    raw_results = pd.read_csv(rawdata_path, sep=',')\n",
    "    column_names = pd.concat([metadata[col_name] for col_name in metadata.columns],ignore_index=True)\n",
    "\n",
    "    results = raw_results.drop(['Time'], axis=1)\n",
    "    if results.shape[1] == column_names.shape[0]:\n",
    "        results.columns = column_names\n",
    "    else: \n",
    "        results = results.iloc[: , :column_names.shape[0]]\n",
    "        print('Tabela z metadanymi zawiera {} prób, a tabela z wynikami {} prób.\\n Tabela z wynikami zawiera {} prób. \\n Aby otrzymać pełną tabelę wyników, uzupełnij tabelę z metadanymi')\n",
    "\n",
    "    time = raw_results['Time']\n",
    "    for i in range(len(time)):\n",
    "        time[i] = parse(time[i], '%H:%M:%S')\n",
    "    time = time/3600.0\n",
    "    results2= results.set_index(time)\n",
    "    results2.to_csv(output_path)\n",
    "    #if results.shape[1] >100:"
   ]
  },
  {
   "cell_type": "code",
   "execution_count": 85,
   "id": "effective-london",
   "metadata": {
    "scrolled": true
   },
   "outputs": [
    {
     "name": "stderr",
     "output_type": "stream",
     "text": [
      "<ipython-input-83-a7d349962b7e>:40: SettingWithCopyWarning: \n",
      "A value is trying to be set on a copy of a slice from a DataFrame\n",
      "\n",
      "See the caveats in the documentation: https://pandas.pydata.org/pandas-docs/stable/user_guide/indexing.html#returning-a-view-versus-a-copy\n",
      "  time[i] = parse(time[i], '%H:%M:%S')\n"
     ]
    }
   ],
   "source": [
    "## Sprawdzenie skryptu\n",
    "\n",
    "join_rawdata_and_metadata(rawdata_path= 'danemaciek_kwiecien2022/22.04.06.csv', \n",
    "                          metadata_path = 'danemaciek_kwiecien2022/metadane (1).csv', \n",
    "                          output_path = 'danemaciek_kwiecien2022/Bioscreen_output_table.csv')"
   ]
  },
  {
   "cell_type": "code",
   "execution_count": 113,
   "id": "increased-doctrine",
   "metadata": {
    "scrolled": false
   },
   "outputs": [],
   "source": [
    "## Przekształcenie tabeli do podłużnego formatu, np. do przygotowania wykresów\n",
    "\n",
    "res2 = results.reset_index()\n",
    "results_longer_df = pd.melt(res2, value_vars=results.columns, id_vars = 'Time',\n",
    "                           value_name='OD', var_name='sample')#, value_vars=None, var_name=None, value_name='value'\n",
    "#results_longer_df['sample2'] = results_longer_df['sample'].apply(lambda x: x.split(r'\\.\\d$')[0])\n",
    "#results_longer_df['sample_ogolnie'] = results_longer_df['sample'].apply(lambda x: x.split('_')[-1])\n"
   ]
  },
  {
   "cell_type": "code",
   "execution_count": null,
   "id": "cosmetic-standing",
   "metadata": {},
   "outputs": [],
   "source": []
  },
  {
   "cell_type": "code",
   "execution_count": null,
   "id": "neither-doctrine",
   "metadata": {},
   "outputs": [],
   "source": []
  }
 ],
 "metadata": {
  "kernelspec": {
   "display_name": "Python 3",
   "language": "python",
   "name": "python3"
  },
  "language_info": {
   "codemirror_mode": {
    "name": "ipython",
    "version": 3
   },
   "file_extension": ".py",
   "mimetype": "text/x-python",
   "name": "python",
   "nbconvert_exporter": "python",
   "pygments_lexer": "ipython3",
   "version": "3.8.10"
  }
 },
 "nbformat": 4,
 "nbformat_minor": 5
}
